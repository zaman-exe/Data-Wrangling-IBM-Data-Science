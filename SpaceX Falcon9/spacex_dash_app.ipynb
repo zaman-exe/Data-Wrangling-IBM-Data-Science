{
 "cells": [
  {
   "cell_type": "code",
   "execution_count": 2,
   "id": "6be2354b",
   "metadata": {
    "scrolled": true
   },
   "outputs": [
    {
     "name": "stdout",
     "output_type": "stream",
     "text": [
      "Dash is running on http://127.0.0.1:8050/\n",
      "\n",
      " * Serving Flask app \"__main__\" (lazy loading)\n",
      " * Environment: production\n",
      "\u001b[31m   WARNING: This is a development server. Do not use it in a production deployment.\u001b[0m\n",
      "\u001b[2m   Use a production WSGI server instead.\u001b[0m\n",
      " * Debug mode: off\n"
     ]
    },
    {
     "name": "stderr",
     "output_type": "stream",
     "text": [
      " * Running on http://127.0.0.1:8050/ (Press CTRL+C to quit)\n",
      "127.0.0.1 - - [10/Jul/2023 19:43:40] \"GET / HTTP/1.1\" 200 -\n",
      "127.0.0.1 - - [10/Jul/2023 19:43:40] \"GET /_dash-component-suites/dash/deps/polyfill@7.v2_9_3m1684838536.12.1.min.js HTTP/1.1\" 200 -\n",
      "127.0.0.1 - - [10/Jul/2023 19:43:40] \"GET /_dash-component-suites/dash/deps/react-dom@16.v2_9_3m1684838536.14.0.min.js HTTP/1.1\" 200 -\n",
      "127.0.0.1 - - [10/Jul/2023 19:43:40] \"GET /_dash-component-suites/dash/deps/react@16.v2_9_3m1684838536.14.0.min.js HTTP/1.1\" 200 -\n",
      "127.0.0.1 - - [10/Jul/2023 19:43:40] \"GET /_dash-component-suites/dash/deps/prop-types@15.v2_9_3m1684838536.8.1.min.js HTTP/1.1\" 200 -\n",
      "127.0.0.1 - - [10/Jul/2023 19:43:40] \"GET /_dash-component-suites/dash/dash-renderer/build/dash_renderer.v2_9_3m1684838536.min.js HTTP/1.1\" 200 -\n",
      "127.0.0.1 - - [10/Jul/2023 19:43:40] \"GET /_dash-component-suites/dash/dcc/dash_core_components.v2_9_2m1684838536.js HTTP/1.1\" 200 -\n",
      "127.0.0.1 - - [10/Jul/2023 19:43:40] \"GET /_dash-component-suites/dash/dcc/dash_core_components-shared.v2_9_2m1684838536.js HTTP/1.1\" 200 -\n",
      "127.0.0.1 - - [10/Jul/2023 19:43:40] \"GET /_dash-component-suites/dash/html/dash_html_components.v2_0_11m1684838536.min.js HTTP/1.1\" 200 -\n",
      "127.0.0.1 - - [10/Jul/2023 19:43:40] \"GET /_dash-component-suites/dash/dash_table/bundle.v5_2_4m1684838536.js HTTP/1.1\" 200 -\n",
      "127.0.0.1 - - [10/Jul/2023 19:43:40] \"GET /_dash-layout HTTP/1.1\" 200 -\n",
      "127.0.0.1 - - [10/Jul/2023 19:43:40] \"GET /_dash-dependencies HTTP/1.1\" 200 -\n",
      "127.0.0.1 - - [10/Jul/2023 19:43:40] \"GET /_dash-component-suites/dash/dcc/async-dropdown.js HTTP/1.1\" 200 -\n",
      "127.0.0.1 - - [10/Jul/2023 19:43:40] \"GET /_dash-component-suites/dash/dcc/async-graph.js HTTP/1.1\" 200 -\n",
      "127.0.0.1 - - [10/Jul/2023 19:43:40] \"GET /_dash-component-suites/dash/dcc/async-plotlyjs.js HTTP/1.1\" 200 -\n",
      "127.0.0.1 - - [10/Jul/2023 19:43:40] \"GET /_dash-component-suites/dash/dcc/async-slider.js HTTP/1.1\" 200 -\n",
      "127.0.0.1 - - [10/Jul/2023 19:43:41] \"GET /_favicon.ico?v=2.9.3 HTTP/1.1\" 200 -\n",
      "127.0.0.1 - - [10/Jul/2023 19:43:42] \"POST /_dash-update-component HTTP/1.1\" 200 -\n",
      "127.0.0.1 - - [10/Jul/2023 19:43:42] \"POST /_dash-update-component HTTP/1.1\" 200 -\n",
      "127.0.0.1 - - [10/Jul/2023 19:43:45] \"POST /_dash-update-component HTTP/1.1\" 200 -\n",
      "127.0.0.1 - - [10/Jul/2023 19:43:45] \"POST /_dash-update-component HTTP/1.1\" 200 -\n"
     ]
    },
    {
     "name": "stdout",
     "output_type": "stream",
     "text": [
      "0    6\n",
      "1    4\n",
      "Name: class, dtype: int64\n"
     ]
    },
    {
     "name": "stderr",
     "output_type": "stream",
     "text": [
      "127.0.0.1 - - [10/Jul/2023 19:43:48] \"POST /_dash-update-component HTTP/1.1\" 200 -\n",
      "127.0.0.1 - - [10/Jul/2023 19:43:48] \"POST /_dash-update-component HTTP/1.1\" 200 -\n"
     ]
    },
    {
     "name": "stdout",
     "output_type": "stream",
     "text": [
      "0    19\n",
      "1     7\n",
      "Name: class, dtype: int64\n"
     ]
    },
    {
     "name": "stderr",
     "output_type": "stream",
     "text": [
      "127.0.0.1 - - [10/Jul/2023 19:43:50] \"POST /_dash-update-component HTTP/1.1\" 200 -\n",
      "127.0.0.1 - - [10/Jul/2023 19:43:50] \"POST /_dash-update-component HTTP/1.1\" 200 -\n",
      "127.0.0.1 - - [10/Jul/2023 19:43:54] \"POST /_dash-update-component HTTP/1.1\" 200 -\n",
      "127.0.0.1 - - [10/Jul/2023 19:43:58] \"POST /_dash-update-component HTTP/1.1\" 200 -\n",
      "127.0.0.1 - - [10/Jul/2023 19:44:01] \"POST /_dash-update-component HTTP/1.1\" 200 -\n",
      "127.0.0.1 - - [10/Jul/2023 19:44:05] \"POST /_dash-update-component HTTP/1.1\" 200 -\n",
      "127.0.0.1 - - [10/Jul/2023 19:44:07] \"POST /_dash-update-component HTTP/1.1\" 200 -\n",
      "127.0.0.1 - - [10/Jul/2023 19:44:10] \"POST /_dash-update-component HTTP/1.1\" 200 -\n",
      "127.0.0.1 - - [10/Jul/2023 19:44:12] \"POST /_dash-update-component HTTP/1.1\" 200 -\n"
     ]
    }
   ],
   "source": [
    "# Import required libraries\n",
    "import pandas as pd\n",
    "import dash\n",
    "import dash_html_components as html\n",
    "import dash_core_components as dcc\n",
    "from dash.dependencies import Input, Output\n",
    "import plotly.express as px\n",
    "\n",
    "# Read the airline data into pandas dataframe\n",
    "spacex_df = pd.read_csv(\"spacex_launch_dash.csv\")\n",
    "max_payload = spacex_df['Payload Mass (kg)'].max()\n",
    "min_payload = spacex_df['Payload Mass (kg)'].min()\n",
    "launch_sites = spacex_df['Launch Site'].unique()\n",
    "# Create a dash application\n",
    "app = dash.Dash(__name__)\n",
    "\n",
    "# Create an app layout\n",
    "app.layout = html.Div(children=[html.H1('SpaceX Launch Records Dashboard',\n",
    "                                        style={'textAlign': 'center', 'color': '#503D36',\n",
    "                                               'font-size': 40}),\n",
    "                                # TASK 1: Add a dropdown list to enable Launch Site selection\n",
    "                                # The default select value is for ALL sites\n",
    "                                dcc.Dropdown(id='site-dropdown',\n",
    "                                options=[{'label': 'All', 'value': 'All'}] + [{'label': site, 'value': site} for site in launch_sites]\n",
    ",\n",
    "                                value='All',\n",
    "                                placeholder=\"Select a Launch Site here\",\n",
    "                                searchable=True\n",
    "                                ),\n",
    "                                html.Br(),\n",
    "\n",
    "                                # TASK 2: Add a pie chart to show the total successful launches count for all sites\n",
    "                                # If a specific launch site was selected, show the Success vs. Failed counts for the site\n",
    "                                html.Div(dcc.Graph(id='success-pie-chart')),\n",
    "                                html.Br(),\n",
    "\n",
    "                                html.P(\"Payload range (Kg):\"),\n",
    "                                # TASK 3: Add a slider to select payload range\n",
    "                                dcc.RangeSlider(id='payload-slider',\n",
    "                                min=0, max=10000, step=1000,\n",
    "                                marks={0: '0',\n",
    "                                    2500: '2500',\n",
    "                                    5000: '5000',\n",
    "                                    7500: '7500',\n",
    "                                    },\n",
    "                                value=[0, 2500,5000,7500]),\n",
    "\n",
    "                                # TASK 4: Add a scatter chart to show the correlation between payload and launch success\n",
    "                                html.Div(dcc.Graph(id='success-payload-scatter-chart')),\n",
    "                                ])\n",
    "\n",
    "# TASK 2:\n",
    "# Function decorator to specify function input and output\n",
    "@app.callback(Output(component_id='success-pie-chart', component_property='figure'),\n",
    "              Input(component_id='site-dropdown', component_property='value'))\n",
    "def get_pie_chart(entered_site):\n",
    "    filtered_df = spacex_df\n",
    "    if entered_site == 'All':\n",
    "        fig = px.pie(filtered_df, values='class', \n",
    "        names='Launch Site', \n",
    "        title='Launch Sites Distribution')\n",
    "        return fig\n",
    "    else:\n",
    "        filtered_df = spacex_df[spacex_df['Launch Site'] == entered_site]\n",
    "        title = f\"Success Rate for {entered_site}\"\n",
    "\n",
    "        success_counts = filtered_df['class'].value_counts()\n",
    "        print(success_counts)\n",
    "        labels = ['Failure', 'Success']\n",
    "        fig = px.pie(values=success_counts, names=labels, title=title)\n",
    "        return fig\n",
    "        # return the outcomes piechart for a selected site\n",
    "\n",
    "# TASK 4:\n",
    "# Add a callback function for `site-dropdown` and `payload-slider` as inputs, `success-payload-scatter-chart` as output\n",
    "@app.callback(Output(component_id='success-payload-scatter-chart', component_property='figure'),\n",
    "              Input(component_id='site-dropdown', component_property='value'),\n",
    "              Input(component_id=\"payload-slider\", component_property=\"value\"))\n",
    "def get_scatter_chart(entered_site, payload_range):\n",
    "    if entered_site == 'All':\n",
    "        filtered_df = spacex_df.copy()\n",
    "        title = 'Payload vs. Outcome (All Sites)'\n",
    "        color_column = 'Booster Version Category'\n",
    "    else:\n",
    "        filtered_df = spacex_df[spacex_df['Launch Site'] == entered_site].copy()\n",
    "        title = f\"Payload vs. Outcome ({entered_site})\"\n",
    "        color_column = 'Booster Version Category'\n",
    "\n",
    "    # Apply payload range filter\n",
    "    if payload_range:\n",
    "        filtered_df = filtered_df[(filtered_df['Payload Mass (kg)'] >= payload_range[0]) & \n",
    "                                  (filtered_df['Payload Mass (kg)'] <= payload_range[1])]\n",
    "\n",
    "    # Create scatter plot\n",
    "    fig = px.scatter(filtered_df, x='Payload Mass (kg)', y='class', color=color_column,\n",
    "                     title=title, labels={'Payload Mass (kg)': 'Payload Mass (kg)', 'class': 'Outcome'})\n",
    "\n",
    "    return fig\n",
    "\n",
    "# Run the app\n",
    "if __name__ == '__main__':\n",
    "    app.run_server()\n"
   ]
  },
  {
   "cell_type": "code",
   "execution_count": null,
   "id": "ca0def22",
   "metadata": {},
   "outputs": [],
   "source": []
  }
 ],
 "metadata": {
  "kernelspec": {
   "display_name": "Python 3 (ipykernel)",
   "language": "python",
   "name": "python3"
  },
  "language_info": {
   "codemirror_mode": {
    "name": "ipython",
    "version": 3
   },
   "file_extension": ".py",
   "mimetype": "text/x-python",
   "name": "python",
   "nbconvert_exporter": "python",
   "pygments_lexer": "ipython3",
   "version": "3.9.13"
  }
 },
 "nbformat": 4,
 "nbformat_minor": 5
}
